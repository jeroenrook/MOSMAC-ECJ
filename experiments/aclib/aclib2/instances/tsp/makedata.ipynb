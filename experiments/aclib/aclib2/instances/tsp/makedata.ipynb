{
 "cells": [
  {
   "metadata": {
    "ExecuteTime": {
     "end_time": "2024-06-25T08:59:57.963557Z",
     "start_time": "2024-06-25T08:59:57.687181Z"
    }
   },
   "cell_type": "code",
   "source": [
    "from pathlib import Path\n",
    "import numpy as np\n"
   ],
   "id": "5e645cd335f261be",
   "outputs": [],
   "execution_count": 21
  },
  {
   "cell_type": "code",
   "id": "initial_id",
   "metadata": {
    "collapsed": true,
    "ExecuteTime": {
     "end_time": "2024-06-25T08:56:14.053957Z",
     "start_time": "2024-06-25T08:56:13.950503Z"
    }
   },
   "source": [
    "\n",
    "tours = Path(\"tsp-instances-master-instances-ecj2018-rue/instances/ecj2018/rue\").glob(\"*.tsp.opt\")\n",
    "\n",
    "optimumlines = []\n",
    "for tour in tours:\n",
    "    problemname = tour.name[:-8]\n",
    "    with open(tour, \"r\") as fh:\n",
    "        optimum = fh.read().strip()\n",
    "    optimumlines.append(f\"{problemname} - optimum - {optimum}\")\n",
    "    \n",
    "optimumlines = sorted(optimumlines)\n",
    "\n",
    "with open(\"sets/tsp-rue-1000-2000/optimum-RUE.txt\", \"w\") as fh:\n",
    "    for line in optimumlines:\n",
    "        fh.write(line + \"\\n\")\n",
    "\n"
   ],
   "outputs": [],
   "execution_count": 18
  },
  {
   "metadata": {
    "ExecuteTime": {
     "end_time": "2024-06-25T09:04:23.070848Z",
     "start_time": "2024-06-25T09:04:23.019715Z"
    }
   },
   "cell_type": "code",
   "source": [
    "tours = Path(\"data/tsp-rue-1000-2000/\").glob(\"*.tsp\")\n",
    "tours = [f\"instances/tsp/{t}\" for t in tours]\n",
    "sample = np.random.permutation(len(tours))\n",
    "\n",
    "train = [tours[s] for s in sample[:200]]\n",
    "test = [tours[s] for s in sample[200:]]\n",
    "\n",
    "with open(\"sets/tsp-rue-1000-2000/training.txt\", \"w\") as fh:\n",
    "    for t in train:\n",
    "        fh.write(f\"{t} \\n\")\n",
    "        \n",
    "with open(\"sets/tsp-rue-1000-2000/test.txt\", \"w\") as fh:\n",
    "    for t in test:\n",
    "        fh.write(f\"{t} \\n\")\n",
    "        "
   ],
   "id": "3935eeec0e6ec310",
   "outputs": [],
   "execution_count": 25
  },
  {
   "metadata": {},
   "cell_type": "code",
   "outputs": [],
   "execution_count": null,
   "source": "",
   "id": "901e26428b7097af"
  }
 ],
 "metadata": {
  "kernelspec": {
   "display_name": "Python 3",
   "language": "python",
   "name": "python3"
  },
  "language_info": {
   "codemirror_mode": {
    "name": "ipython",
    "version": 2
   },
   "file_extension": ".py",
   "mimetype": "text/x-python",
   "name": "python",
   "nbconvert_exporter": "python",
   "pygments_lexer": "ipython2",
   "version": "2.7.6"
  }
 },
 "nbformat": 4,
 "nbformat_minor": 5
}
